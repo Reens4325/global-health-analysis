{
 "cells": [
  {
   "cell_type": "code",
   "execution_count": null,
   "id": "e5bfc23c",
   "metadata": {},
   "outputs": [],
   "source": [
    "# Shift+Enter to run a cell\n",
    "import pandas as pd\n",
    "import numpy as np\n",
    "import matplotlib.pyplot as plt\n",
    "import seaborn as sns\n",
    "import plotly.express as px\n",
    "\n",
    "# This line makes plots show up nicely\n",
    "%matplotlib inline"
   ]
  },
  {
   "cell_type": "code",
   "execution_count": null,
   "id": "344eda13",
   "metadata": {},
   "outputs": [],
   "source": [
    "# Load the life expectancy data\n",
    "life_df = pd.read_csv('data/life_expectancy.csv', skiprows=4)\n",
    "\n",
    "# Show first 5 rows\n",
    "life_df.head()"
   ]
  },
  {
   "cell_type": "code",
   "execution_count": null,
   "id": "b2df93c7",
   "metadata": {},
   "outputs": [],
   "source": [
    "# Dimensions of DataFrame\n",
    "print(\"Life Expectancy DataFrame Shape:\", life_df.shape)\n",
    "\n",
    "# Get summary of DataFrame\n",
    "life_df.info"
   ]
  },
  {
   "cell_type": "code",
   "execution_count": null,
   "id": "67da1c63",
   "metadata": {},
   "outputs": [],
   "source": [
    "# Health Expenditure\n",
    "health_exp_df = pd.read_csv('data/health_expenditure.csv', skiprows=4)\n",
    "health_exp_df.head()\n",
    "\n",
    "print(\"Health Expenditure DataFrame Shape:\", health_exp_df.shape)\n",
    "health_exp_df.info"
   ]
  },
  {
   "cell_type": "code",
   "execution_count": null,
   "id": "1c2f99b8",
   "metadata": {},
   "outputs": [],
   "source": [
    "# Physicians\n",
    "physicians_df = pd.read_csv('data/physicians.csv', skiprows=4)\n",
    "physicians_df.head()\n",
    "\n",
    "print(\"Physicians DataFrame Shape:\", physicians_df.shape)\n",
    "physicians_df.info"
   ]
  },
  {
   "cell_type": "code",
   "execution_count": null,
   "id": "9e8ce538",
   "metadata": {},
   "outputs": [],
   "source": [
    "# Identify which columns are years\n",
    "year_columns = [col for col in life_df.columns if col.isdigit() and len(col) == 4]\n",
    "\n",
    "print(\"First 10 year columns:\", year_columns[:10])\n",
    "print(\"Number of year columns found:\", len(year_columns))"
   ]
  },
  {
   "cell_type": "code",
   "execution_count": null,
   "id": "0bf21544",
   "metadata": {},
   "outputs": [],
   "source": [
    "# Select the columns: Country names, codes, and all the year columns\n",
    "life_long = life_df.melt(\n",
    "    id_vars=['Country Name', 'Country Code'], # These stay as columns\n",
    "    value_vars=year_columns,           # These are all the year columns\n",
    "    var_name='Year',                          # New year column name\n",
    "    value_name='Life_Exp'                     # New value column name\n",
    ")\n",
    "\n",
    "print(\"Life Expectancy (Long Format) Shape:\", life_long.shape)\n",
    "life_long.head()"
   ]
  },
  {
   "cell_type": "code",
   "execution_count": null,
   "id": "958fcb14",
   "metadata": {},
   "outputs": [],
   "source": [
    "# Melt the health expenditure data\n",
    "health_exp_long = health_exp_df.melt(\n",
    "    id_vars=['Country Name', 'Country Code'],\n",
    "    value_vars=year_columns,\n",
    "    var_name='Year',\n",
    "    value_name='Health_Exp_PC' # PC for Per Capita\n",
    ")\n",
    "print(\"Health Expenditure (Long Format) Shape:\", health_exp_long.shape)\n",
    "\n",
    "# Melt the physicians data\n",
    "physicians_long = physicians_df.melt(\n",
    "    id_vars=['Country Name', 'Country Code'],\n",
    "    value_vars=year_columns,\n",
    "    var_name='Year',\n",
    "    value_name='Physicians'\n",
    ")\n",
    "print(\"Physicians (Long Format) Shape:\", physicians_long.shape)"
   ]
  },
  {
   "cell_type": "code",
   "execution_count": null,
   "id": "984d032c",
   "metadata": {},
   "outputs": [],
   "source": [
    "# Merge Life Expectancy and Health Expenditure\n",
    "merged_df = pd.merge(life_long, health_exp_long, on=['Country Name', 'Country Code', 'Year'])\n",
    "\n",
    "# Merge Physicians data\n",
    "master_df = pd.merge(merged_df, physicians_long, on=['Country Name', 'Country Code', 'Year'])\n",
    "\n",
    "print(\"Master DataFrame Shape:\", master_df.shape)\n",
    "master_df.head(10)"
   ]
  },
  {
   "cell_type": "code",
   "execution_count": null,
   "id": "777b2ec3",
   "metadata": {},
   "outputs": [],
   "source": [
    "# Check the number of missing values in each column\n",
    "\n",
    "master_df.isnull().sum()"
   ]
  },
  {
   "cell_type": "code",
   "execution_count": null,
   "id": "4aa31ba1",
   "metadata": {},
   "outputs": [],
   "source": [
    "master_df['Year'] = master_df['Year'].astype(int)\n",
    "\n",
    "# Check the new master DataFrame\n",
    "print(\"Master DataFrame Shape:\", master_df.shape)\n",
    "print(\"Year column data type:\", master_df['Year'].dtype)\n",
    "master_df.head()"
   ]
  },
  {
   "cell_type": "code",
   "execution_count": null,
   "id": "7225fcd6",
   "metadata": {},
   "outputs": [],
   "source": [
    "# Filter for years from 2000 onwards\n",
    "df_recent = master_df[master_df['Year'] >= 2000]\n",
    "print(\"Shape of recent data:\", df_recent.shape)"
   ]
  },
  {
   "cell_type": "code",
   "execution_count": null,
   "id": "28d1e977",
   "metadata": {},
   "outputs": [],
   "source": [
    "# List of countries to compare\n",
    "countries_to_plot = ['United Kingdom', 'United States', 'China', 'India', 'Germany', 'Brazil', 'South Africa']\n",
    "plot_df = df_recent[df_recent['Country Name'].isin(countries_to_plot)]\n",
    "\n",
    "# Create the plot\n",
    "plt.figure(figsize=(14, 8)) # Makes the plot bigger\n",
    "sns.lineplot(data=plot_df, x='Year', y='Life_Exp', hue='Country Name', errorbar=None)\n",
    "plt.title('Life Expectancy Trends (2000-Present)')\n",
    "plt.ylabel('Life Expectancy (years)')\n",
    "plt.xlabel('Year')\n",
    "plt.legend(bbox_to_anchor=(1.05, 1), loc='upper left') # Puts legend outside the plot\n",
    "plt.tight_layout() # Adjusts layout to fit everything\n",
    "plt.show()"
   ]
  },
  {
   "cell_type": "code",
   "execution_count": null,
   "id": "d3689262",
   "metadata": {},
   "outputs": [],
   "source": [
    "# Filter for a specific year\n",
    "df_2018 = df_recent[df_recent['Year'] == 2018]\n",
    "\n",
    "# Create a scatter plot\n",
    "plt.figure(figsize=(12, 8))\n",
    "scatter = sns.scatterplot(data=df_2018, x='Health_Exp_PC', y='Life_Exp', hue='Country Name', legend=False, s=50)\n",
    "\n",
    "# Get current axes for coordinate transformation\n",
    "ax = plt.gca()\n",
    "\n",
    "# Add country labels with better positioning for log scale\n",
    "for line in range(0, df_2018.shape[0]):\n",
    "    country = df_2018.iloc[line]['Country Name']\n",
    "    # Only label specific countries to avoid clutter\n",
    "    if country in ['United States', 'China', 'India', 'Luxembourg', 'Japan', 'Cuba', 'Sierra Leone', 'United Kingdom']:\n",
    "        x_val = df_2018.iloc[line]['Health_Exp_PC']\n",
    "        y_val = df_2018.iloc[line]['Life_Exp']\n",
    "        \n",
    "        # For log scale, we'll use a small multiplicative offset instead of additive\n",
    "        # This will work better across the entire range of values\n",
    "        text = ax.text(x_val * 1.05,\n",
    "                       y_val, \n",
    "                       country, \n",
    "                       fontsize=9,\n",
    "                       ha='left',   # Horizontal alignment to left\n",
    "                       va='center') # Vertical alignment to center\n",
    "\n",
    "plt.title('Health Expenditure vs. Life Expectancy (2018)')\n",
    "plt.xlabel('Health Expenditure per Capita (US $)')\n",
    "plt.ylabel('Life Expectancy (years)')\n",
    "plt.xscale('log')\n",
    "plt.show()"
   ]
  },
  {
   "cell_type": "code",
   "execution_count": 42,
   "id": "a9a5a7ad",
   "metadata": {},
   "outputs": [
    {
     "name": "stdout",
     "output_type": "stream",
     "text": [
      "Complete data by year:\n",
      "2024: 0 countries with complete data\n",
      "2023: 0 countries with complete data\n",
      "2022: 61 countries with complete data\n",
      "\n",
      "Using year: 2022\n",
      "Number of countries with complete data for 2022: 61\n"
     ]
    },
    {
     "data": {
      "application/vnd.plotly.v1+json": {
       "config": {
        "plotlyServerURL": "https://plot.ly"
       },
       "data": [
        {
         "customdata": [
          [
           "AGO",
           0.244
          ],
          [
           "ARG",
           4.082
          ],
          [
           "AUT",
           5.508
          ],
          [
           "BEN",
           0.195
          ],
          [
           "BFA",
           0.147
          ],
          [
           "BGR",
           4.896
          ],
          [
           "BRB",
           2.965
          ],
          [
           "BTN",
           0.552
          ],
          [
           "BWA",
           0.378
          ],
          [
           "CAN",
           2.497
          ],
          [
           "CHL",
           3.17
          ],
          [
           "CIV",
           0.175
          ],
          [
           "CMR",
           0.135
          ],
          [
           "COD",
           0.187
          ],
          [
           "COG",
           0.175
          ],
          [
           "CRI",
           2.636
          ],
          [
           "DOM",
           2.235
          ],
          [
           "ERI",
           0.071
          ],
          [
           "ETH",
           0.108
          ],
          [
           "GAB",
           0.477
          ],
          [
           "GBR",
           3.174
          ],
          [
           "GEO",
           5.613
          ],
          [
           "GHA",
           0.141
          ],
          [
           "GIN",
           0.021
          ],
          [
           "GNB",
           0.208
          ],
          [
           "GNQ",
           0.143
          ],
          [
           "IDN",
           0.69
          ],
          [
           "IRQ",
           1.012
          ],
          [
           "ISL",
           4.524
          ],
          [
           "ISR",
           3.713
          ],
          [
           "ITA",
           4.248
          ],
          [
           "KEN",
           0.102
          ],
          [
           "LBR",
           0.18
          ],
          [
           "LSO",
           0.151
          ],
          [
           "LTU",
           5.127
          ],
          [
           "MLI",
           0.195
          ],
          [
           "MNE",
           2.752
          ],
          [
           "MOZ",
           0.082
          ],
          [
           "MRT",
           0.236
          ],
          [
           "MUS",
           1.197
          ],
          [
           "MWI",
           0.049
          ],
          [
           "NAM",
           0.543
          ],
          [
           "NER",
           0.023
          ],
          [
           "NGA",
           0.394
          ],
          [
           "NZL",
           3.574
          ],
          [
           "OMN",
           2.058
          ],
          [
           "PER",
           1.621
          ],
          [
           "PRY",
           3.882
          ],
          [
           "SAU",
           3.077
          ],
          [
           "SEN",
           0.126
          ],
          [
           "SLE",
           0.043
          ],
          [
           "SLV",
           1.552
          ],
          [
           "SWZ",
           1.591
          ],
          [
           "SYC",
           3.819
          ],
          [
           "TCD",
           0.085
          ],
          [
           "TGO",
           0.083
          ],
          [
           "TZA",
           0.133
          ],
          [
           "UGA",
           0.168
          ],
          [
           "URY",
           4.63
          ],
          [
           "ZMB",
           0.262
          ],
          [
           "ZWE",
           0.166
          ]
         ],
         "hovertemplate": "<b>%{hovertext}</b><br>Health Expenditure: $%{x:,.0f}<br>Life Expectancy: %{y:.1f} years<br>Physicians: %{marker.size:.2f} per 1k<extra></extra>",
         "hovertext": [
          "Angola",
          "Argentina",
          "Austria",
          "Benin",
          "Burkina Faso",
          "Bulgaria",
          "Barbados",
          "Bhutan",
          "Botswana",
          "Canada",
          "Chile",
          "Cote d'Ivoire",
          "Cameroon",
          "Congo, Dem. Rep.",
          "Congo, Rep.",
          "Costa Rica",
          "Dominican Republic",
          "Eritrea",
          "Ethiopia",
          "Gabon",
          "United Kingdom",
          "Georgia",
          "Ghana",
          "Guinea",
          "Guinea-Bissau",
          "Equatorial Guinea",
          "Indonesia",
          "Iraq",
          "Iceland",
          "Israel",
          "Italy",
          "Kenya",
          "Liberia",
          "Lesotho",
          "Lithuania",
          "Mali",
          "Montenegro",
          "Mozambique",
          "Mauritania",
          "Mauritius",
          "Malawi",
          "Namibia",
          "Niger",
          "Nigeria",
          "New Zealand",
          "Oman",
          "Peru",
          "Paraguay",
          "Saudi Arabia",
          "Senegal",
          "Sierra Leone",
          "El Salvador",
          "Eswatini",
          "Seychelles",
          "Chad",
          "Togo",
          "Tanzania",
          "Uganda",
          "Uruguay",
          "Zambia",
          "Zimbabwe"
         ],
         "legendgroup": "",
         "marker": {
          "color": "#636efa",
          "size": {
           "bdata": "CKwcWmQ7zz+HFtnO91MQQNV46SYxCBZA9ihcj8L1yD83iUFg5dDCPy/dJAaBlRNAuB6F61G4B0BEi2zn+6nhP/7UeOkmMdg/YOXQItv5A0Bcj8L1KFwJQGZmZmZmZsY/SOF6FK5HwT9WDi2yne/HP2ZmZmZmZsY/SgwCK4cWBUDhehSuR+EBQJMYBFYOLbI/2c73U+Oluz+6SQwCK4fePzEIrBxaZAlAwcqhRbZzFkA/NV66SQzCPxsv3SQGgZU/ObTIdr6fyj/n+6nx0k3CPxSuR+F6FOY//tR46SYx8D9/arx0kxgSQE5iEFg5tA1Ay6FFtvP9EEDpJjEIrBy6PwrXo3A9Csc/hxbZzvdTwz81XrpJDIIUQPYoXI/C9cg/arx0kxgEBkDLoUW28/20P2iR7Xw/Nc4/9P3UeOkm8z9KDAIrhxapP8dLN4lBYOE/WmQ730+Nlz+e76fGSzfZP2Q730+NlwxAEFg5tMh2AEBWDi2yne/5P3WTGARWDg9ABFYOLbKdCEBU46WbxCDAP2q8dJMYBKY/okW28/3U+D/b+X5qvHT5P1pkO99PjQ5Aw/UoXI/CtT9zaJHtfD+1P6AaL90kBsE/Gy/dJAaBxT+F61G4HoUSQPhT46WbxNA/c2iR7Xw/xT8=",
           "dtype": "f8"
          },
          "sizemode": "area",
          "sizeref": 0.014032500000000002,
          "symbol": "circle"
         },
         "mode": "markers",
         "name": "",
         "orientation": "v",
         "showlegend": false,
         "type": "scatter",
         "x": {
          "bdata": "9jX9n2RQWUB4r//fiWuVQOXv/1/227ZA5z0I4OrwQEBx8Pkf6GBMQBqq///BmI9AKOX/nzxYlED5Af7fp09jQPb2AEBS3X1Aovr/HwdvuEAo5f+fKC2YQIVFA4C8iVVAVSMFYI3+UUDjif+/2mI4QCzYBCCHTUlArWn/f7uWjkCWiwDANOR8QI1+8n9gFTtAp5IBoIoRO0De8f0/FONuQAAAAACeq7NAy0UAYFrbfUDBPAGgjJRUQH/s/V/YhEtAGqr//4GDUEC4mQKAAMNnQMsGBABo3F9ABz3+f/rTb0Ci+v8focO6QOXv/1/ff7BAhur/f1x9qEAfAwUgJpxWQHt7ACCh6VhATJj+X3S2YECVJQAgp5acQCOM+n8wvj1A5lUAAEJMkUBswgfAibxIQBtP/P+VmlZA5e//X3x3gkCZVwEAeNRDQGM3AcCAWXlA7MLuv76BOkC2DP6f/7pWQL0KAMBgxLJAyt//v2AXhkBcOf+fuN17QDnsAIAaA35A5e//X3zlmEAyrwIA8N1PQEP1/z+IqENAK7EA4OdTf0AOOwCgIr5xQNe0/78BtoVA3cr5/8QVREBx8PkfaAFLQEGn97/p0kFAqp3+P5ASRkCwNQDAOuucQNHdAeDQA1NAbX/833CqUUA=",
          "dtype": "f8"
         },
         "xaxis": "x",
         "y": {
          "bdata": "ObTIdr4PUEDdJAaBlfNSQHI0LkfjUlRAzczMzMw8TkCamZmZmVlOQMrWpGxNilJAJQaBlUPrUkDHSzeJQTBSQA4tsp3vL1FALUH7ErRPVEAlBoGVQ8tTQA4tsp3vx05AYhBYObQ4T0BaZDvfT31OQAAAAAAAQFBATmIQWDnUU0Av3SQGgY1SQNEi2/l+8lBAxSCwcmi5UEASg8DKoe1QQB99C9K3QFRAGy/dJAaJUkA5tMh2vk9QQJ7vp8ZLN05APQrXo3DNT0A9CtejcK1PQDMzMzMzu1FA7nw/NV4CUkBrYXoWpodUQM3MzMzMrFRAzczMzMysVECDwMqhRcZPQGQ730+N905ADi2yne9nTEAqW5OyNelSQBSuR+F6BE5A7U/A/gQMU0DFILByaIFPQESLbOf7EVFARPwOxO9gUkDufD81XoJQQFyPwvUoDFBAbef7qfEyTkAnMQisHApLQJqK1alYfVRA/Knx0k16U0BMN4lBYDVTQCPb+X5qFFJApHA9CtdTU0DfT42XbvJQQDMzMzMzo05AvHSTGAT+UUDdJAaBlYNPQDFMz8L0bFJA3SQGgZVDS0CF61G4HiVPQMdLN4lBuFBAMzMzMzPrUEDLoUW28x1TQGDl0CLbUVBArkfhehQuT0A=",
          "dtype": "f8"
         },
         "yaxis": "y"
        }
       ],
       "layout": {
        "height": 600,
        "legend": {
         "itemsizing": "constant",
         "tracegroupgap": 0
        },
        "template": {
         "data": {
          "bar": [
           {
            "error_x": {
             "color": "#2a3f5f"
            },
            "error_y": {
             "color": "#2a3f5f"
            },
            "marker": {
             "line": {
              "color": "#E5ECF6",
              "width": 0.5
             },
             "pattern": {
              "fillmode": "overlay",
              "size": 10,
              "solidity": 0.2
             }
            },
            "type": "bar"
           }
          ],
          "barpolar": [
           {
            "marker": {
             "line": {
              "color": "#E5ECF6",
              "width": 0.5
             },
             "pattern": {
              "fillmode": "overlay",
              "size": 10,
              "solidity": 0.2
             }
            },
            "type": "barpolar"
           }
          ],
          "carpet": [
           {
            "aaxis": {
             "endlinecolor": "#2a3f5f",
             "gridcolor": "white",
             "linecolor": "white",
             "minorgridcolor": "white",
             "startlinecolor": "#2a3f5f"
            },
            "baxis": {
             "endlinecolor": "#2a3f5f",
             "gridcolor": "white",
             "linecolor": "white",
             "minorgridcolor": "white",
             "startlinecolor": "#2a3f5f"
            },
            "type": "carpet"
           }
          ],
          "choropleth": [
           {
            "colorbar": {
             "outlinewidth": 0,
             "ticks": ""
            },
            "type": "choropleth"
           }
          ],
          "contour": [
           {
            "colorbar": {
             "outlinewidth": 0,
             "ticks": ""
            },
            "colorscale": [
             [
              0,
              "#0d0887"
             ],
             [
              0.1111111111111111,
              "#46039f"
             ],
             [
              0.2222222222222222,
              "#7201a8"
             ],
             [
              0.3333333333333333,
              "#9c179e"
             ],
             [
              0.4444444444444444,
              "#bd3786"
             ],
             [
              0.5555555555555556,
              "#d8576b"
             ],
             [
              0.6666666666666666,
              "#ed7953"
             ],
             [
              0.7777777777777778,
              "#fb9f3a"
             ],
             [
              0.8888888888888888,
              "#fdca26"
             ],
             [
              1,
              "#f0f921"
             ]
            ],
            "type": "contour"
           }
          ],
          "contourcarpet": [
           {
            "colorbar": {
             "outlinewidth": 0,
             "ticks": ""
            },
            "type": "contourcarpet"
           }
          ],
          "heatmap": [
           {
            "colorbar": {
             "outlinewidth": 0,
             "ticks": ""
            },
            "colorscale": [
             [
              0,
              "#0d0887"
             ],
             [
              0.1111111111111111,
              "#46039f"
             ],
             [
              0.2222222222222222,
              "#7201a8"
             ],
             [
              0.3333333333333333,
              "#9c179e"
             ],
             [
              0.4444444444444444,
              "#bd3786"
             ],
             [
              0.5555555555555556,
              "#d8576b"
             ],
             [
              0.6666666666666666,
              "#ed7953"
             ],
             [
              0.7777777777777778,
              "#fb9f3a"
             ],
             [
              0.8888888888888888,
              "#fdca26"
             ],
             [
              1,
              "#f0f921"
             ]
            ],
            "type": "heatmap"
           }
          ],
          "histogram": [
           {
            "marker": {
             "pattern": {
              "fillmode": "overlay",
              "size": 10,
              "solidity": 0.2
             }
            },
            "type": "histogram"
           }
          ],
          "histogram2d": [
           {
            "colorbar": {
             "outlinewidth": 0,
             "ticks": ""
            },
            "colorscale": [
             [
              0,
              "#0d0887"
             ],
             [
              0.1111111111111111,
              "#46039f"
             ],
             [
              0.2222222222222222,
              "#7201a8"
             ],
             [
              0.3333333333333333,
              "#9c179e"
             ],
             [
              0.4444444444444444,
              "#bd3786"
             ],
             [
              0.5555555555555556,
              "#d8576b"
             ],
             [
              0.6666666666666666,
              "#ed7953"
             ],
             [
              0.7777777777777778,
              "#fb9f3a"
             ],
             [
              0.8888888888888888,
              "#fdca26"
             ],
             [
              1,
              "#f0f921"
             ]
            ],
            "type": "histogram2d"
           }
          ],
          "histogram2dcontour": [
           {
            "colorbar": {
             "outlinewidth": 0,
             "ticks": ""
            },
            "colorscale": [
             [
              0,
              "#0d0887"
             ],
             [
              0.1111111111111111,
              "#46039f"
             ],
             [
              0.2222222222222222,
              "#7201a8"
             ],
             [
              0.3333333333333333,
              "#9c179e"
             ],
             [
              0.4444444444444444,
              "#bd3786"
             ],
             [
              0.5555555555555556,
              "#d8576b"
             ],
             [
              0.6666666666666666,
              "#ed7953"
             ],
             [
              0.7777777777777778,
              "#fb9f3a"
             ],
             [
              0.8888888888888888,
              "#fdca26"
             ],
             [
              1,
              "#f0f921"
             ]
            ],
            "type": "histogram2dcontour"
           }
          ],
          "mesh3d": [
           {
            "colorbar": {
             "outlinewidth": 0,
             "ticks": ""
            },
            "type": "mesh3d"
           }
          ],
          "parcoords": [
           {
            "line": {
             "colorbar": {
              "outlinewidth": 0,
              "ticks": ""
             }
            },
            "type": "parcoords"
           }
          ],
          "pie": [
           {
            "automargin": true,
            "type": "pie"
           }
          ],
          "scatter": [
           {
            "fillpattern": {
             "fillmode": "overlay",
             "size": 10,
             "solidity": 0.2
            },
            "type": "scatter"
           }
          ],
          "scatter3d": [
           {
            "line": {
             "colorbar": {
              "outlinewidth": 0,
              "ticks": ""
             }
            },
            "marker": {
             "colorbar": {
              "outlinewidth": 0,
              "ticks": ""
             }
            },
            "type": "scatter3d"
           }
          ],
          "scattercarpet": [
           {
            "marker": {
             "colorbar": {
              "outlinewidth": 0,
              "ticks": ""
             }
            },
            "type": "scattercarpet"
           }
          ],
          "scattergeo": [
           {
            "marker": {
             "colorbar": {
              "outlinewidth": 0,
              "ticks": ""
             }
            },
            "type": "scattergeo"
           }
          ],
          "scattergl": [
           {
            "marker": {
             "colorbar": {
              "outlinewidth": 0,
              "ticks": ""
             }
            },
            "type": "scattergl"
           }
          ],
          "scattermap": [
           {
            "marker": {
             "colorbar": {
              "outlinewidth": 0,
              "ticks": ""
             }
            },
            "type": "scattermap"
           }
          ],
          "scattermapbox": [
           {
            "marker": {
             "colorbar": {
              "outlinewidth": 0,
              "ticks": ""
             }
            },
            "type": "scattermapbox"
           }
          ],
          "scatterpolar": [
           {
            "marker": {
             "colorbar": {
              "outlinewidth": 0,
              "ticks": ""
             }
            },
            "type": "scatterpolar"
           }
          ],
          "scatterpolargl": [
           {
            "marker": {
             "colorbar": {
              "outlinewidth": 0,
              "ticks": ""
             }
            },
            "type": "scatterpolargl"
           }
          ],
          "scatterternary": [
           {
            "marker": {
             "colorbar": {
              "outlinewidth": 0,
              "ticks": ""
             }
            },
            "type": "scatterternary"
           }
          ],
          "surface": [
           {
            "colorbar": {
             "outlinewidth": 0,
             "ticks": ""
            },
            "colorscale": [
             [
              0,
              "#0d0887"
             ],
             [
              0.1111111111111111,
              "#46039f"
             ],
             [
              0.2222222222222222,
              "#7201a8"
             ],
             [
              0.3333333333333333,
              "#9c179e"
             ],
             [
              0.4444444444444444,
              "#bd3786"
             ],
             [
              0.5555555555555556,
              "#d8576b"
             ],
             [
              0.6666666666666666,
              "#ed7953"
             ],
             [
              0.7777777777777778,
              "#fb9f3a"
             ],
             [
              0.8888888888888888,
              "#fdca26"
             ],
             [
              1,
              "#f0f921"
             ]
            ],
            "type": "surface"
           }
          ],
          "table": [
           {
            "cells": {
             "fill": {
              "color": "#EBF0F8"
             },
             "line": {
              "color": "white"
             }
            },
            "header": {
             "fill": {
              "color": "#C8D4E3"
             },
             "line": {
              "color": "white"
             }
            },
            "type": "table"
           }
          ]
         },
         "layout": {
          "annotationdefaults": {
           "arrowcolor": "#2a3f5f",
           "arrowhead": 0,
           "arrowwidth": 1
          },
          "autotypenumbers": "strict",
          "coloraxis": {
           "colorbar": {
            "outlinewidth": 0,
            "ticks": ""
           }
          },
          "colorscale": {
           "diverging": [
            [
             0,
             "#8e0152"
            ],
            [
             0.1,
             "#c51b7d"
            ],
            [
             0.2,
             "#de77ae"
            ],
            [
             0.3,
             "#f1b6da"
            ],
            [
             0.4,
             "#fde0ef"
            ],
            [
             0.5,
             "#f7f7f7"
            ],
            [
             0.6,
             "#e6f5d0"
            ],
            [
             0.7,
             "#b8e186"
            ],
            [
             0.8,
             "#7fbc41"
            ],
            [
             0.9,
             "#4d9221"
            ],
            [
             1,
             "#276419"
            ]
           ],
           "sequential": [
            [
             0,
             "#0d0887"
            ],
            [
             0.1111111111111111,
             "#46039f"
            ],
            [
             0.2222222222222222,
             "#7201a8"
            ],
            [
             0.3333333333333333,
             "#9c179e"
            ],
            [
             0.4444444444444444,
             "#bd3786"
            ],
            [
             0.5555555555555556,
             "#d8576b"
            ],
            [
             0.6666666666666666,
             "#ed7953"
            ],
            [
             0.7777777777777778,
             "#fb9f3a"
            ],
            [
             0.8888888888888888,
             "#fdca26"
            ],
            [
             1,
             "#f0f921"
            ]
           ],
           "sequentialminus": [
            [
             0,
             "#0d0887"
            ],
            [
             0.1111111111111111,
             "#46039f"
            ],
            [
             0.2222222222222222,
             "#7201a8"
            ],
            [
             0.3333333333333333,
             "#9c179e"
            ],
            [
             0.4444444444444444,
             "#bd3786"
            ],
            [
             0.5555555555555556,
             "#d8576b"
            ],
            [
             0.6666666666666666,
             "#ed7953"
            ],
            [
             0.7777777777777778,
             "#fb9f3a"
            ],
            [
             0.8888888888888888,
             "#fdca26"
            ],
            [
             1,
             "#f0f921"
            ]
           ]
          },
          "colorway": [
           "#636efa",
           "#EF553B",
           "#00cc96",
           "#ab63fa",
           "#FFA15A",
           "#19d3f3",
           "#FF6692",
           "#B6E880",
           "#FF97FF",
           "#FECB52"
          ],
          "font": {
           "color": "#2a3f5f"
          },
          "geo": {
           "bgcolor": "white",
           "lakecolor": "white",
           "landcolor": "#E5ECF6",
           "showlakes": true,
           "showland": true,
           "subunitcolor": "white"
          },
          "hoverlabel": {
           "align": "left"
          },
          "hovermode": "closest",
          "mapbox": {
           "style": "light"
          },
          "paper_bgcolor": "white",
          "plot_bgcolor": "#E5ECF6",
          "polar": {
           "angularaxis": {
            "gridcolor": "white",
            "linecolor": "white",
            "ticks": ""
           },
           "bgcolor": "#E5ECF6",
           "radialaxis": {
            "gridcolor": "white",
            "linecolor": "white",
            "ticks": ""
           }
          },
          "scene": {
           "xaxis": {
            "backgroundcolor": "#E5ECF6",
            "gridcolor": "white",
            "gridwidth": 2,
            "linecolor": "white",
            "showbackground": true,
            "ticks": "",
            "zerolinecolor": "white"
           },
           "yaxis": {
            "backgroundcolor": "#E5ECF6",
            "gridcolor": "white",
            "gridwidth": 2,
            "linecolor": "white",
            "showbackground": true,
            "ticks": "",
            "zerolinecolor": "white"
           },
           "zaxis": {
            "backgroundcolor": "#E5ECF6",
            "gridcolor": "white",
            "gridwidth": 2,
            "linecolor": "white",
            "showbackground": true,
            "ticks": "",
            "zerolinecolor": "white"
           }
          },
          "shapedefaults": {
           "line": {
            "color": "#2a3f5f"
           }
          },
          "ternary": {
           "aaxis": {
            "gridcolor": "white",
            "linecolor": "white",
            "ticks": ""
           },
           "baxis": {
            "gridcolor": "white",
            "linecolor": "white",
            "ticks": ""
           },
           "bgcolor": "#E5ECF6",
           "caxis": {
            "gridcolor": "white",
            "linecolor": "white",
            "ticks": ""
           }
          },
          "title": {
           "x": 0.05
          },
          "xaxis": {
           "automargin": true,
           "gridcolor": "white",
           "linecolor": "white",
           "ticks": "",
           "title": {
            "standoff": 15
           },
           "zerolinecolor": "white",
           "zerolinewidth": 2
          },
          "yaxis": {
           "automargin": true,
           "gridcolor": "white",
           "linecolor": "white",
           "ticks": "",
           "title": {
            "standoff": 15
           },
           "zerolinecolor": "white",
           "zerolinewidth": 2
          }
         }
        },
        "title": {
         "text": "Health Expenditure vs. Life Expectancy (2022)"
        },
        "width": 1000,
        "xaxis": {
         "anchor": "y",
         "domain": [
          0,
          1
         ],
         "title": {
          "text": "Health Expenditure per Capita (US $)"
         },
         "type": "log"
        },
        "yaxis": {
         "anchor": "x",
         "domain": [
          0,
          1
         ],
         "title": {
          "text": "Life Expectancy (years)"
         }
        }
       }
      }
     },
     "metadata": {},
     "output_type": "display_data"
    }
   ],
   "source": [
    "# Find which years have at least some complete data for all three metrics\n",
    "complete_data_by_year = []\n",
    "for year in sorted(df_recent['Year'].unique(), reverse=True):\n",
    "    year_data = df_recent[df_recent['Year'] == year]\n",
    "    complete_count = len(year_data.dropna(subset=['Life_Exp', 'Health_Exp_PC', 'Physicians']))\n",
    "    complete_data_by_year.append((year, complete_count))\n",
    "    \n",
    "    if complete_count >= 30:\n",
    "        most_recent_valid_year = year\n",
    "        break\n",
    "\n",
    "print(\"Complete data by year:\")\n",
    "for year, count in complete_data_by_year:\n",
    "    print(f\"{year}: {count} countries with complete data\")\n",
    "    \n",
    "print(f\"\\nUsing year: {most_recent_valid_year}\")\n",
    "\n",
    "# Filter for this year and get complete data\n",
    "df_recent_year = df_recent[df_recent['Year'] == most_recent_valid_year]\n",
    "df_clean = df_recent_year.dropna(subset=['Life_Exp', 'Health_Exp_PC', 'Physicians'])\n",
    "\n",
    "print(f\"Number of countries with complete data for {most_recent_valid_year}: {len(df_clean)}\")\n",
    "\n",
    "# Create the interactive scatter plot\n",
    "fig_scatter = px.scatter(df_clean,\n",
    "                         x='Health_Exp_PC',\n",
    "                         y='Life_Exp',\n",
    "                         size='Physicians',\n",
    "                         hover_name='Country Name',\n",
    "                         hover_data=['Country Code', 'Health_Exp_PC', 'Life_Exp', 'Physicians'],\n",
    "                         title=f'Health Expenditure vs. Life Expectancy ({most_recent_valid_year})',\n",
    "                         labels={'Health_Exp_PC': 'Health Expenditure per Capita (US $)',\n",
    "                                 'Life_Exp': 'Life Expectancy (years)',\n",
    "                                 'Physicians': 'Physicians per 1k'},\n",
    "                         log_x=True,\n",
    "                         width=1000,\n",
    "                         height=600)\n",
    "\n",
    "# Make the hover tool show more precise numbers\n",
    "fig_scatter.update_traces(hovertemplate='<b>%{hovertext}</b><br>' +\n",
    "                                        'Health Expenditure: $%{x:,.0f}<br>' +\n",
    "                                        'Life Expectancy: %{y:.1f} years<br>' +\n",
    "                                        'Physicians: %{marker.size:.2f} per 1k' +\n",
    "                                        '<extra></extra>')\n",
    "\n",
    "fig_scatter.show()"
   ]
  },
  {
   "cell_type": "code",
   "execution_count": 37,
   "id": "bbd6b46c",
   "metadata": {},
   "outputs": [
    {
     "name": "stdout",
     "output_type": "stream",
     "text": [
      "Pearson's r (Correlation Coefficient): 0.723\n",
      "P-value: 4.82e-11\n",
      "\n",
      "Interpretation: There is a strong positive linear correlation between health expenditure and life expectancy.\n"
     ]
    }
   ],
   "source": [
    "from scipy import stats\n",
    "\n",
    "# Calculate Pearson's r for the 2022 data\n",
    "df_2022_clean = df_clean[['Health_Exp_PC', 'Life_Exp']].dropna() # Ensure we're using the same cleaned dataset\n",
    "\n",
    "pearson_r, p_value = stats.pearsonr(df_2022_clean['Health_Exp_PC'], df_2022_clean['Life_Exp'])\n",
    "\n",
    "print(f\"Pearson's r (Correlation Coefficient): {pearson_r:.3f}\")\n",
    "print(f\"P-value: {p_value:.3g}\")\n",
    "\n",
    "# Interpret the strength\n",
    "if abs(pearson_r) >= 0.7:\n",
    "    strength = \"strong\"\n",
    "elif abs(pearson_r) >= 0.5:\n",
    "    strength = \"moderate\"\n",
    "elif abs(pearson_r) >= 0.3:\n",
    "    strength = \"weak\"\n",
    "else:\n",
    "    strength = \"very weak, or no\"\n",
    "\n",
    "direction = \"positive\" if pearson_r > 0 else \"negative\"\n",
    "\n",
    "print(f\"\\nInterpretation: There is a {strength} {direction} linear correlation between health expenditure and life expectancy.\")"
   ]
  },
  {
   "cell_type": "code",
   "execution_count": 35,
   "id": "7633824b",
   "metadata": {},
   "outputs": [
    {
     "name": "stdout",
     "output_type": "stream",
     "text": [
      "         Country Name  Health_Exp_PC   Life_Exp  Physicians\n",
      "16506         Austria    5851.962402  81.295122       5.508\n",
      "16607          Israel    4223.872559  82.700000       3.713\n",
      "16672     New Zealand    4804.377930  81.958537       3.574\n",
      "16573  United Kingdom    5035.617188  81.011220       3.174\n"
     ]
    }
   ],
   "source": [
    "# Filter for countries with similar health expenditure to the UK (~$5000)\n",
    "# Let's look at countries spending between $4000 and $6000\n",
    "peer_group = df_clean[(df_clean['Health_Exp_PC'] >= 4000) & (df_clean['Health_Exp_PC'] <= 6000)]\n",
    "\n",
    "# Sort this peer group by Physicians per 1k to see the UK's rank\n",
    "peer_group_sorted = peer_group.sort_values('Physicians', ascending=False)\n",
    "print(peer_group_sorted[['Country Name', 'Health_Exp_PC', 'Life_Exp', 'Physicians']].to_string())"
   ]
  },
  {
   "cell_type": "code",
   "execution_count": 36,
   "id": "cdf82f38",
   "metadata": {},
   "outputs": [
    {
     "data": {
      "image/png": "[encoded data removed]",
      "text/plain": [
       "<Figure size 1200x600 with 1 Axes>"
      ]
     },
     "metadata": {},
     "output_type": "display_data"
    }
   ],
   "source": [
    "plt.figure(figsize=(12, 6))\n",
    "sns.barplot(data=peer_group_sorted, x='Country Name', y='Physicians')\n",
    "plt.xticks(rotation=90) # Rotate country names so they're readable\n",
    "plt.title('Physicians per 1000 people in countries with similar health expenditure ($4k-$6k)')\n",
    "plt.tight_layout()\n",
    "plt.show()"
   ]
  },
  {
   "cell_type": "code",
   "execution_count": 39,
   "id": "f04600c8",
   "metadata": {},
   "outputs": [
    {
     "data": {
      "application/vnd.plotly.v1+json": {
       "config": {
        "plotlyServerURL": "https://plot.ly"
       },
       "data": [
        {
         "coloraxis": "coloraxis",
         "customdata": {
          "bdata": "9jX9n2RQWUAIrBxaZDvPP3iv/9+Ja5VAhxbZzvdTEEDl7/9f9tu2QNV46SYxCBZA5z0I4OrwQED2KFyPwvXIP3Hw+R/oYExAN4lBYOXQwj8aqv//wZiPQC/dJAaBlRNAKOX/nzxYlEC4HoXrUbgHQPkB/t+nT2NARIts5/up4T/29gBAUt19QP7UeOkmMdg/ovr/HwdvuEBg5dAi2/kDQCjl/58oLZhAXI/C9ShcCUCFRQOAvIlVQGZmZmZmZsY/VSMFYI3+UUBI4XoUrkfBP+OJ/7/aYjhAVg4tsp3vxz8s2AQgh01JQGZmZmZmZsY/rWn/f7uWjkBKDAIrhxYFQJaLAMA05HxA4XoUrkfhAUCNfvJ/YBU7QJMYBFYOLbI/p5IBoIoRO0DZzvdT46W7P97x/T8U425AukkMAiuH3j8AAAAAnquzQDEIrBxaZAlAy0UAYFrbfUDByqFFtnMWQME8AaCMlFRAPzVeukkMwj9/7P1f2IRLQBsv3SQGgZU/Gqr//4GDUEA5tMh2vp/KP7iZAoAAw2dA5/up8dJNwj/LBgQAaNxfQBSuR+F6FOY/Bz3+f/rTb0D+1HjpJjHwP6L6/x+hw7pAf2q8dJMYEkDl7/9f33+wQE5iEFg5tA1Ahur/f1x9qEDLoUW28/0QQB8DBSAmnFZA6SYxCKwcuj97ewAgoelYQArXo3A9Csc/TJj+X3S2YECHFtnO91PDP5UlACCnlpxANV66SQyCFEAjjPp/ML49QPYoXI/C9cg/5lUAAEJMkUBqvHSTGAQGQGzCB8CJvEhAy6FFtvP9tD8bT/z/lZpWQGiR7Xw/Nc4/5e//X3x3gkD0/dR46SbzP5lXAQB41ENASgwCK4cWqT9jNwHAgFl5QMdLN4lBYOE/7MLuv76BOkBaZDvfT42XP7YM/p//ulZAnu+nxks32T+9CgDAYMSyQGQ730+NlwxAyt//v2AXhkAQWDm0yHYAQFw5/5+43XtAVg4tsp3v+T857ACAGgN+QHWTGARWDg9A5e//X3zlmEAEVg4tsp0IQDKvAgDw3U9AVOOlm8QgwD9D9f8/iKhDQGq8dJMYBKY/K7EA4OdTf0CiRbbz/dT4Pw47AKAivnFA2/l+arx0+T/XtP+/AbaFQFpkO99PjQ5A3cr5/8QVREDD9Shcj8K1P3Hw+R9oAUtAc2iR7Xw/tT9Bp/e/6dJBQKAaL90kBsE/qp3+P5ASRkAbL90kBoHFP7A1AMA665xAhetRuB6FEkDR3QHg0ANTQPhT46WbxNA/bX/833CqUUBzaJHtfD/FPw==",
          "dtype": "f8",
          "shape": "61, 2"
         },
         "geo": "geo",
         "hovertemplate": "<b>%{hovertext}</b><br>Life Expectancy: %{z:.1f} years<br>Health Expenditure: $%{customdata[0]:,.0f}<br>Physicians: %{customdata[1]:.2f} per 1k<extra></extra>",
         "hovertext": [
          "Angola",
          "Argentina",
          "Austria",
          "Benin",
          "Burkina Faso",
          "Bulgaria",
          "Barbados",
          "Bhutan",
          "Botswana",
          "Canada",
          "Chile",
          "Cote d'Ivoire",
          "Cameroon",
          "Congo, Dem. Rep.",
          "Congo, Rep.",
          "Costa Rica",
          "Dominican Republic",
          "Eritrea",
          "Ethiopia",
          "Gabon",
          "United Kingdom",
          "Georgia",
          "Ghana",
          "Guinea",
          "Guinea-Bissau",
          "Equatorial Guinea",
          "Indonesia",
          "Iraq",
          "Iceland",
          "Israel",
          "Italy",
          "Kenya",
          "Liberia",
          "Lesotho",
          "Lithuania",
          "Mali",
          "Montenegro",
          "Mozambique",
          "Mauritania",
          "Mauritius",
          "Malawi",
          "Namibia",
          "Niger",
          "Nigeria",
          "New Zealand",
          "Oman",
          "Peru",
          "Paraguay",
          "Saudi Arabia",
          "Senegal",
          "Sierra Leone",
          "El Salvador",
          "Eswatini",
          "Seychelles",
          "Chad",
          "Togo",
          "Tanzania",
          "Uganda",
          "Uruguay",
          "Zambia",
          "Zimbabwe"
         ],
         "locations": [
          "AGO",
          "ARG",
          "AUT",
          "BEN",
          "BFA",
          "BGR",
          "BRB",
          "BTN",
          "BWA",
          "CAN",
          "CHL",
          "CIV",
          "CMR",
          "COD",
          "COG",
          "CRI",
          "DOM",
          "ERI",
          "ETH",
          "GAB",
          "GBR",
          "GEO",
          "GHA",
          "GIN",
          "GNB",
          "GNQ",
          "IDN",
          "IRQ",
          "ISL",
          "ISR",
          "ITA",
          "KEN",
          "LBR",
          "LSO",
          "LTU",
          "MLI",
          "MNE",
          "MOZ",
          "MRT",
          "MUS",
          "MWI",
          "NAM",
          "NER",
          "NGA",
          "NZL",
          "OMN",
          "PER",
          "PRY",
          "SAU",
          "SEN",
          "SLE",
          "SLV",
          "SWZ",
          "SYC",
          "TCD",
          "TGO",
          "TZA",
          "UGA",
          "URY",
          "ZMB",
          "ZWE"
         ],
         "name": "",
         "type": "choropleth",
         "z": {
          "bdata": "ObTIdr4PUEDdJAaBlfNSQHI0LkfjUlRAzczMzMw8TkCamZmZmVlOQMrWpGxNilJAJQaBlUPrUkDHSzeJQTBSQA4tsp3vL1FALUH7ErRPVEAlBoGVQ8tTQA4tsp3vx05AYhBYObQ4T0BaZDvfT31OQAAAAAAAQFBATmIQWDnUU0Av3SQGgY1SQNEi2/l+8lBAxSCwcmi5UEASg8DKoe1QQB99C9K3QFRAGy/dJAaJUkA5tMh2vk9QQJ7vp8ZLN05APQrXo3DNT0A9CtejcK1PQDMzMzMzu1FA7nw/NV4CUkBrYXoWpodUQM3MzMzMrFRAzczMzMysVECDwMqhRcZPQGQ730+N905ADi2yne9nTEAqW5OyNelSQBSuR+F6BE5A7U/A/gQMU0DFILByaIFPQESLbOf7EVFARPwOxO9gUkDufD81XoJQQFyPwvUoDFBAbef7qfEyTkAnMQisHApLQJqK1alYfVRA/Knx0k16U0BMN4lBYDVTQCPb+X5qFFJApHA9CtdTU0DfT42XbvJQQDMzMzMzo05AvHSTGAT+UUDdJAaBlYNPQDFMz8L0bFJA3SQGgZVDS0CF61G4HiVPQMdLN4lBuFBAMzMzMzPrUEDLoUW28x1TQGDl0CLbUVBArkfhehQuT0A=",
          "dtype": "f8"
         }
        }
       ],
       "layout": {
        "coloraxis": {
         "colorbar": {
          "title": {
           "text": "Life Expectancy (years)"
          }
         },
         "colorscale": [
          [
           0,
           "#0d0887"
          ],
          [
           0.1111111111111111,
           "#46039f"
          ],
          [
           0.2222222222222222,
           "#7201a8"
          ],
          [
           0.3333333333333333,
           "#9c179e"
          ],
          [
           0.4444444444444444,
           "#bd3786"
          ],
          [
           0.5555555555555556,
           "#d8576b"
          ],
          [
           0.6666666666666666,
           "#ed7953"
          ],
          [
           0.7777777777777778,
           "#fb9f3a"
          ],
          [
           0.8888888888888888,
           "#fdca26"
          ],
          [
           1,
           "#f0f921"
          ]
         ]
        },
        "geo": {
         "center": {},
         "domain": {
          "x": [
           0,
           1
          ],
          "y": [
           0,
           1
          ]
         }
        },
        "height": 600,
        "legend": {
         "tracegroupgap": 0
        },
        "template": {
         "data": {
          "bar": [
           {
            "error_x": {
             "color": "#2a3f5f"
            },
            "error_y": {
             "color": "#2a3f5f"
            },
            "marker": {
             "line": {
              "color": "#E5ECF6",
              "width": 0.5
             },
             "pattern": {
              "fillmode": "overlay",
              "size": 10,
              "solidity": 0.2
             }
            },
            "type": "bar"
           }
          ],
          "barpolar": [
           {
            "marker": {
             "line": {
              "color": "#E5ECF6",
              "width": 0.5
             },
             "pattern": {
              "fillmode": "overlay",
              "size": 10,
              "solidity": 0.2
             }
            },
            "type": "barpolar"
           }
          ],
          "carpet": [
           {
            "aaxis": {
             "endlinecolor": "#2a3f5f",
             "gridcolor": "white",
             "linecolor": "white",
             "minorgridcolor": "white",
             "startlinecolor": "#2a3f5f"
            },
            "baxis": {
             "endlinecolor": "#2a3f5f",
             "gridcolor": "white",
             "linecolor": "white",
             "minorgridcolor": "white",
             "startlinecolor": "#2a3f5f"
            },
            "type": "carpet"
           }
          ],
          "choropleth": [
           {
            "colorbar": {
             "outlinewidth": 0,
             "ticks": ""
            },
            "type": "choropleth"
           }
          ],
          "contour": [
           {
            "colorbar": {
             "outlinewidth": 0,
             "ticks": ""
            },
            "colorscale": [
             [
              0,
              "#0d0887"
             ],
             [
              0.1111111111111111,
              "#46039f"
             ],
             [
              0.2222222222222222,
              "#7201a8"
             ],
             [
              0.3333333333333333,
              "#9c179e"
             ],
             [
              0.4444444444444444,
              "#bd3786"
             ],
             [
              0.5555555555555556,
              "#d8576b"
             ],
             [
              0.6666666666666666,
              "#ed7953"
             ],
             [
              0.7777777777777778,
              "#fb9f3a"
             ],
             [
              0.8888888888888888,
              "#fdca26"
             ],
             [
              1,
              "#f0f921"
             ]
            ],
            "type": "contour"
           }
          ],
          "contourcarpet": [
           {
            "colorbar": {
             "outlinewidth": 0,
             "ticks": ""
            },
            "type": "contourcarpet"
           }
          ],
          "heatmap": [
           {
            "colorbar": {
             "outlinewidth": 0,
             "ticks": ""
            },
            "colorscale": [
             [
              0,
              "#0d0887"
             ],
             [
              0.1111111111111111,
              "#46039f"
             ],
             [
              0.2222222222222222,
              "#7201a8"
             ],
             [
              0.3333333333333333,
              "#9c179e"
             ],
             [
              0.4444444444444444,
              "#bd3786"
             ],
             [
              0.5555555555555556,
              "#d8576b"
             ],
             [
              0.6666666666666666,
              "#ed7953"
             ],
             [
              0.7777777777777778,
              "#fb9f3a"
             ],
             [
              0.8888888888888888,
              "#fdca26"
             ],
             [
              1,
              "#f0f921"
             ]
            ],
            "type": "heatmap"
           }
          ],
          "histogram": [
           {
            "marker": {
             "pattern": {
              "fillmode": "overlay",
              "size": 10,
              "solidity": 0.2
             }
            },
            "type": "histogram"
           }
          ],
          "histogram2d": [
           {
            "colorbar": {
             "outlinewidth": 0,
             "ticks": ""
            },
            "colorscale": [
             [
              0,
              "#0d0887"
             ],
             [
              0.1111111111111111,
              "#46039f"
             ],
             [
              0.2222222222222222,
              "#7201a8"
             ],
             [
              0.3333333333333333,
              "#9c179e"
             ],
             [
              0.4444444444444444,
              "#bd3786"
             ],
             [
              0.5555555555555556,
              "#d8576b"
             ],
             [
              0.6666666666666666,
              "#ed7953"
             ],
             [
              0.7777777777777778,
              "#fb9f3a"
             ],
             [
              0.8888888888888888,
              "#fdca26"
             ],
             [
              1,
              "#f0f921"
             ]
            ],
            "type": "histogram2d"
           }
          ],
          "histogram2dcontour": [
           {
            "colorbar": {
             "outlinewidth": 0,
             "ticks": ""
            },
            "colorscale": [
             [
              0,
              "#0d0887"
             ],
             [
              0.1111111111111111,
              "#46039f"
             ],
             [
              0.2222222222222222,
              "#7201a8"
             ],
             [
              0.3333333333333333,
              "#9c179e"
             ],
             [
              0.4444444444444444,
              "#bd3786"
             ],
             [
              0.5555555555555556,
              "#d8576b"
             ],
             [
              0.6666666666666666,
              "#ed7953"
             ],
             [
              0.7777777777777778,
              "#fb9f3a"
             ],
             [
              0.8888888888888888,
              "#fdca26"
             ],
             [
              1,
              "#f0f921"
             ]
            ],
            "type": "histogram2dcontour"
           }
          ],
          "mesh3d": [
           {
            "colorbar": {
             "outlinewidth": 0,
             "ticks": ""
            },
            "type": "mesh3d"
           }
          ],
          "parcoords": [
           {
            "line": {
             "colorbar": {
              "outlinewidth": 0,
              "ticks": ""
             }
            },
            "type": "parcoords"
           }
          ],
          "pie": [
           {
            "automargin": true,
            "type": "pie"
           }
          ],
          "scatter": [
           {
            "fillpattern": {
             "fillmode": "overlay",
             "size": 10,
             "solidity": 0.2
            },
            "type": "scatter"
           }
          ],
          "scatter3d": [
           {
            "line": {
             "colorbar": {
              "outlinewidth": 0,
              "ticks": ""
             }
            },
            "marker": {
             "colorbar": {
              "outlinewidth": 0,
              "ticks": ""
             }
            },
            "type": "scatter3d"
           }
          ],
          "scattercarpet": [
           {
            "marker": {
             "colorbar": {
              "outlinewidth": 0,
              "ticks": ""
             }
            },
            "type": "scattercarpet"
           }
          ],
          "scattergeo": [
           {
            "marker": {
             "colorbar": {
              "outlinewidth": 0,
              "ticks": ""
             }
            },
            "type": "scattergeo"
           }
          ],
          "scattergl": [
           {
            "marker": {
             "colorbar": {
              "outlinewidth": 0,
              "ticks": ""
             }
            },
            "type": "scattergl"
           }
          ],
          "scattermap": [
           {
            "marker": {
             "colorbar": {
              "outlinewidth": 0,
              "ticks": ""
             }
            },
            "type": "scattermap"
           }
          ],
          "scattermapbox": [
           {
            "marker": {
             "colorbar": {
              "outlinewidth": 0,
              "ticks": ""
             }
            },
            "type": "scattermapbox"
           }
          ],
          "scatterpolar": [
           {
            "marker": {
             "colorbar": {
              "outlinewidth": 0,
              "ticks": ""
             }
            },
            "type": "scatterpolar"
           }
          ],
          "scatterpolargl": [
           {
            "marker": {
             "colorbar": {
              "outlinewidth": 0,
              "ticks": ""
             }
            },
            "type": "scatterpolargl"
           }
          ],
          "scatterternary": [
           {
            "marker": {
             "colorbar": {
              "outlinewidth": 0,
              "ticks": ""
             }
            },
            "type": "scatterternary"
           }
          ],
          "surface": [
           {
            "colorbar": {
             "outlinewidth": 0,
             "ticks": ""
            },
            "colorscale": [
             [
              0,
              "#0d0887"
             ],
             [
              0.1111111111111111,
              "#46039f"
             ],
             [
              0.2222222222222222,
              "#7201a8"
             ],
             [
              0.3333333333333333,
              "#9c179e"
             ],
             [
              0.4444444444444444,
              "#bd3786"
             ],
             [
              0.5555555555555556,
              "#d8576b"
             ],
             [
              0.6666666666666666,
              "#ed7953"
             ],
             [
              0.7777777777777778,
              "#fb9f3a"
             ],
             [
              0.8888888888888888,
              "#fdca26"
             ],
             [
              1,
              "#f0f921"
             ]
            ],
            "type": "surface"
           }
          ],
          "table": [
           {
            "cells": {
             "fill": {
              "color": "#EBF0F8"
             },
             "line": {
              "color": "white"
             }
            },
            "header": {
             "fill": {
              "color": "#C8D4E3"
             },
             "line": {
              "color": "white"
             }
            },
            "type": "table"
           }
          ]
         },
         "layout": {
          "annotationdefaults": {
           "arrowcolor": "#2a3f5f",
           "arrowhead": 0,
           "arrowwidth": 1
          },
          "autotypenumbers": "strict",
          "coloraxis": {
           "colorbar": {
            "outlinewidth": 0,
            "ticks": ""
           }
          },
          "colorscale": {
           "diverging": [
            [
             0,
             "#8e0152"
            ],
            [
             0.1,
             "#c51b7d"
            ],
            [
             0.2,
             "#de77ae"
            ],
            [
             0.3,
             "#f1b6da"
            ],
            [
             0.4,
             "#fde0ef"
            ],
            [
             0.5,
             "#f7f7f7"
            ],
            [
             0.6,
             "#e6f5d0"
            ],
            [
             0.7,
             "#b8e186"
            ],
            [
             0.8,
             "#7fbc41"
            ],
            [
             0.9,
             "#4d9221"
            ],
            [
             1,
             "#276419"
            ]
           ],
           "sequential": [
            [
             0,
             "#0d0887"
            ],
            [
             0.1111111111111111,
             "#46039f"
            ],
            [
             0.2222222222222222,
             "#7201a8"
            ],
            [
             0.3333333333333333,
             "#9c179e"
            ],
            [
             0.4444444444444444,
             "#bd3786"
            ],
            [
             0.5555555555555556,
             "#d8576b"
            ],
            [
             0.6666666666666666,
             "#ed7953"
            ],
            [
             0.7777777777777778,
             "#fb9f3a"
            ],
            [
             0.8888888888888888,
             "#fdca26"
            ],
            [
             1,
             "#f0f921"
            ]
           ],
           "sequentialminus": [
            [
             0,
             "#0d0887"
            ],
            [
             0.1111111111111111,
             "#46039f"
            ],
            [
             0.2222222222222222,
             "#7201a8"
            ],
            [
             0.3333333333333333,
             "#9c179e"
            ],
            [
             0.4444444444444444,
             "#bd3786"
            ],
            [
             0.5555555555555556,
             "#d8576b"
            ],
            [
             0.6666666666666666,
             "#ed7953"
            ],
            [
             0.7777777777777778,
             "#fb9f3a"
            ],
            [
             0.8888888888888888,
             "#fdca26"
            ],
            [
             1,
             "#f0f921"
            ]
           ]
          },
          "colorway": [
           "#636efa",
           "#EF553B",
           "#00cc96",
           "#ab63fa",
           "#FFA15A",
           "#19d3f3",
           "#FF6692",
           "#B6E880",
           "#FF97FF",
           "#FECB52"
          ],
          "font": {
           "color": "#2a3f5f"
          },
          "geo": {
           "bgcolor": "white",
           "lakecolor": "white",
           "landcolor": "#E5ECF6",
           "showlakes": true,
           "showland": true,
           "subunitcolor": "white"
          },
          "hoverlabel": {
           "align": "left"
          },
          "hovermode": "closest",
          "mapbox": {
           "style": "light"
          },
          "paper_bgcolor": "white",
          "plot_bgcolor": "#E5ECF6",
          "polar": {
           "angularaxis": {
            "gridcolor": "white",
            "linecolor": "white",
            "ticks": ""
           },
           "bgcolor": "#E5ECF6",
           "radialaxis": {
            "gridcolor": "white",
            "linecolor": "white",
            "ticks": ""
           }
          },
          "scene": {
           "xaxis": {
            "backgroundcolor": "#E5ECF6",
            "gridcolor": "white",
            "gridwidth": 2,
            "linecolor": "white",
            "showbackground": true,
            "ticks": "",
            "zerolinecolor": "white"
           },
           "yaxis": {
            "backgroundcolor": "#E5ECF6",
            "gridcolor": "white",
            "gridwidth": 2,
            "linecolor": "white",
            "showbackground": true,
            "ticks": "",
            "zerolinecolor": "white"
           },
           "zaxis": {
            "backgroundcolor": "#E5ECF6",
            "gridcolor": "white",
            "gridwidth": 2,
            "linecolor": "white",
            "showbackground": true,
            "ticks": "",
            "zerolinecolor": "white"
           }
          },
          "shapedefaults": {
           "line": {
            "color": "#2a3f5f"
           }
          },
          "ternary": {
           "aaxis": {
            "gridcolor": "white",
            "linecolor": "white",
            "ticks": ""
           },
           "baxis": {
            "gridcolor": "white",
            "linecolor": "white",
            "ticks": ""
           },
           "bgcolor": "#E5ECF6",
           "caxis": {
            "gridcolor": "white",
            "linecolor": "white",
            "ticks": ""
           }
          },
          "title": {
           "x": 0.05
          },
          "xaxis": {
           "automargin": true,
           "gridcolor": "white",
           "linecolor": "white",
           "ticks": "",
           "title": {
            "standoff": 15
           },
           "zerolinecolor": "white",
           "zerolinewidth": 2
          },
          "yaxis": {
           "automargin": true,
           "gridcolor": "white",
           "linecolor": "white",
           "ticks": "",
           "title": {
            "standoff": 15
           },
           "zerolinecolor": "white",
           "zerolinewidth": 2
          }
         }
        },
        "title": {
         "text": "Global Life Expectancy (2022)"
        },
        "width": 1000
       }
      }
     },
     "metadata": {},
     "output_type": "display_data"
    }
   ],
   "source": [
    "# Create a choropleth map for Life Expectancy in 2022\n",
    "fig_map = px.choropleth(df_clean,\n",
    "                    locations=\"Country Code\",\n",
    "                    color=\"Life_Exp\",            # This column determines the color\n",
    "                    hover_name=\"Country Name\",   # Shows on hover\n",
    "                    hover_data=[\"Health_Exp_PC\", \"Physicians\"], # Additional data on hover\n",
    "                    color_continuous_scale=px.colors.sequential.Plasma, # Color scale\n",
    "                    title='Global Life Expectancy (2022)',\n",
    "                    labels={'Life_Exp': 'Life Expectancy (years)'}, # Label for the color scale\n",
    "                    width=1000,\n",
    "                    height=600)\n",
    "\n",
    "# Improve the hover template to show precise values\n",
    "fig_map.update_traces(hovertemplate='<b>%{hovertext}</b><br>' +\n",
    "                                    'Life Expectancy: %{z:.1f} years<br>' +\n",
    "                                    'Health Expenditure: $%{customdata[0]:,.0f}<br>' +\n",
    "                                    'Physicians: %{customdata[1]:.2f} per 1k' +\n",
    "                                    '<extra></extra>')\n",
    "\n",
    "fig_map.show()"
   ]
  },
  {
   "cell_type": "code",
   "execution_count": 40,
   "id": "67701174",
   "metadata": {},
   "outputs": [
    {
     "name": "stdout",
     "output_type": "stream",
     "text": [
      "Interactive HTML files have been saved to the 'docs' folder!\n"
     ]
    }
   ],
   "source": [
    "# Export the interactive plots to HTML files\n",
    "fig_map.write_html(\"docs/map_plot.html\")\n",
    "fig_scatter.write_html(\"docs/scatter_plot.html\")\n",
    "\n",
    "print(\"Interactive HTML files have been saved to the 'docs' folder!\")"
   ]
  }
 ],
 "metadata": {
  "kernelspec": {
   "display_name": "health_venv",
   "language": "python",
   "name": "python3"
  },
  "language_info": {
   "codemirror_mode": {
    "name": "ipython",
    "version": 3
   },
   "file_extension": ".py",
   "mimetype": "text/x-python",
   "name": "python",
   "nbconvert_exporter": "python",
   "pygments_lexer": "ipython3",
   "version": "3.13.7"
  }
 },
 "nbformat": 4,
 "nbformat_minor": 5
}
